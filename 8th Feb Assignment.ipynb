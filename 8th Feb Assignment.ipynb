{
 "cells": [
  {
   "cell_type": "markdown",
   "id": "866c2287-51ec-4d08-aaf7-13498f16b076",
   "metadata": {},
   "source": [
    "Q1. What is Abstraction in OOps? Explain with an example.\n",
    "    \n",
    "    Abstraction is the process of hinding the internal details of an application from\n",
    "    the outer world. Abstraction is used to describe things in simple terms. It's used\n",
    "    to create a boundary between the application and its client programs. Its main goal \n",
    "    to handle complexity by hiding unnecessary details from user. That enables to implement\n",
    "    more complex logic on top of the provided abstraction without understanding or even \n",
    "    thinking about all the hidden complexity. Its a very generic concept that's not limited\n",
    "    to oops. We can find it everywhere in the real world.\n",
    "    Making coffee with coffee machine is a good example of abstraction. We need to know how\n",
    "    to use coffee machine to make coffee. We don't need to know how the coffee machine is\n",
    "    working internally to brew a fresh cup of coffee.\n",
    "    Object in an oops provide an abstraction that hides the internal implementation details.\n",
    "    "
   ]
  },
  {
   "cell_type": "code",
   "execution_count": 1,
   "id": "084214e5-db82-4a1b-82db-3b17dc5ac9e0",
   "metadata": {},
   "outputs": [
    {
     "name": "stdout",
     "output_type": "stream",
     "text": [
      "The mileage is 30kmph\n",
      "The mileage is 35kmph\n"
     ]
    }
   ],
   "source": [
    "# Example \n",
    "from abc import ABC, abstractmethod\n",
    "class Car(ABC):\n",
    "    def mileage(self):\n",
    "        pass\n",
    "    \n",
    "class Tesla(Car):\n",
    "    def mileage(self):\n",
    "        print(\"The mileage is 30kmph\")\n",
    "        \n",
    "class Suzuki(Car):\n",
    "    def mileage(self):\n",
    "        print(\"The mileage is 35kmph\")\n",
    "        \n",
    "t = Tesla()\n",
    "t.mileage()\n",
    "\n",
    "r = Suzuki()\n",
    "r.mileage()"
   ]
  },
  {
   "cell_type": "markdown",
   "id": "7ec3b0f2-f0e9-4d5d-af41-abe781e6f4ea",
   "metadata": {},
   "source": [
    "Q2. Differentiate between Abstraction and Encapsulation. Explain with an example.\n",
    "\n",
    "    Abstraction                                           Encapsulation\n",
    "    Solves the problem in the design level.      Solves the problem in the implementation level.\n",
    "    \n",
    "    Used for hiding the unwanted data and        Encapsulation means hiding the code data into\n",
    "    giving relevant data.                        a single unit to protect the data from outside.\n",
    "    \n",
    "    lets us focus on what the object does        hides the internal details or mechanics of how an\n",
    "    instead of how it does                       object does something.\n",
    "    \n",
    "    outer layout, used in terms of design.       Inner layout, used in terms of implementation.\n",
    "    eg. outer look of a Mobile phone, like       for eg. Inner implementation detail of a Mobile\n",
    "    it has a display screen and keypad buttons   phone, how keypad button and display screen are \n",
    "    to dial a number.                            connect with each other using circuits."
   ]
  },
  {
   "cell_type": "markdown",
   "id": "1ea408f1-5740-4e98-ba4e-8a133ba54ea1",
   "metadata": {},
   "source": [
    "Q3. What is abc module in python? Why is it used?\n",
    "\n",
    "    abc module provides the infrastructure for defining abstract base class (ABCs) in\n",
    "    python. This module provides the metaclass ABCmeta for defining ABCs and a helper \n",
    "    ABC to alternatively define ABCs through inheritance. \n",
    "    abc offers the necessary tools for crafting an abstract base class.\n",
    "    By default, Python does not provide abstract classes. The 'abc' module in the python\n",
    "    library provides the infrastructure for defining custom abstract base class. Abstract \n",
    "    class cannot be instantiated in Python. An abstract method can be call by its subclass.\n",
    "    abc module provides us:- ABCmeta and ABC(helper class) , these are keywords used \n",
    "    to create an abstract class."
   ]
  },
  {
   "cell_type": "markdown",
   "id": "de7bc6b2-3250-4df4-be20-a003d82a2321",
   "metadata": {},
   "source": [
    "Q4. How can we achieve data abstraction?\n",
    "\n",
    "    The process by which data and functions are defined in such a way that only essential details\n",
    "    can be seen and unnecessary implementation are hidden are called Data Abstraction.\n",
    "    The main focus of data abstraction is to seperate the interface and the implementation of \n",
    "    program.\n",
    "    Data Abstraction in python can be achieved through creating abstract classes and inheriting\n",
    "    them later. "
   ]
  },
  {
   "cell_type": "markdown",
   "id": "89a7ac28-a464-4108-9be2-5e2efe7eb44b",
   "metadata": {},
   "source": [
    "Q5. Can we create an instance of an abstract class? Explain your answer.\n",
    "\n",
    "    Abstract classes cannot be instantiated, but they can be subclassed.\n",
    "    Abstract class are not complete, as they may have some methods that are not defined.\n",
    "    So we cannot create an instance or object of an abstract class. If we try to instantiated\n",
    "    the abstract class, it raises "
   ]
  },
  {
   "cell_type": "code",
   "execution_count": null,
   "id": "c7a6c0c0-07ad-4126-ac71-3f4f08b109a0",
   "metadata": {},
   "outputs": [],
   "source": []
  }
 ],
 "metadata": {
  "kernelspec": {
   "display_name": "Python 3 (ipykernel)",
   "language": "python",
   "name": "python3"
  },
  "language_info": {
   "codemirror_mode": {
    "name": "ipython",
    "version": 3
   },
   "file_extension": ".py",
   "mimetype": "text/x-python",
   "name": "python",
   "nbconvert_exporter": "python",
   "pygments_lexer": "ipython3",
   "version": "3.10.8"
  }
 },
 "nbformat": 4,
 "nbformat_minor": 5
}
